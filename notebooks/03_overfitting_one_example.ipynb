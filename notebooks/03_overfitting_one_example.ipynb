{
 "cells": [
  {
   "cell_type": "code",
   "execution_count": null,
   "metadata": {
    "editable": true,
    "id": "JcSdm-mnh-6K",
    "slideshow": {
     "slide_type": ""
    },
    "tags": []
   },
   "outputs": [],
   "source": [
    "import torch\n",
    "import torch.nn as nn\n",
    "\n",
    "class TinyModel(nn.Module):\n",
    "\n",
    "    def __init__(self):\n",
    "        super(TinyModel, self).__init__()\n",
    "\n",
    "        self.image_net = nn.Sequential(\n",
    "            nn.Conv2d(3, 5, (5, 5), stride=(3, 3)),\n",
    "            nn.ReLU(),\n",
    "            nn.MaxPool2d((5, 5), stride=(5, 5)),\n",
    "            nn.Conv2d(5, 10, (3, 3)),\n",
    "            nn.ReLU(),\n",
    "            nn.MaxPool2d((5, 5), stride=(5, 5)),\n",
    "            nn.Flatten(),\n",
    "            nn.Linear(400, 32)\n",
    "        )\n",
    "\n",
    "        self.embeddings_net = nn.Sequential(\n",
    "            nn.Linear(384, 100),\n",
    "            nn.ReLU(),\n",
    "            nn.Linear(100, 32),\n",
    "            nn.ReLU()\n",
    "        )\n",
    "\n",
    "        self.final_net = nn.Sequential(\n",
    "            nn.Linear(64, 10),\n",
    "            nn.ReLU(),\n",
    "            nn.Linear(10, 2),\n",
    "            nn.Sigmoid()\n",
    "        )\n",
    "\n",
    "    def forward(self, images, embeddings):\n",
    "        image_features = self.image_net(images)\n",
    "        embeddings_features = self.embeddings_net(embeddings)\n",
    "        result = self.final_net(torch.concat((image_features, embeddings_features), axis=1))\n",
    "        return result\n",
    "\n"
   ]
  },
  {
   "cell_type": "code",
   "execution_count": null,
   "metadata": {
    "colab": {
     "base_uri": "https://localhost:8080/"
    },
    "id": "wkLKPSpwv1qA",
    "outputId": "19663f8e-1a7e-4c1b-bf8c-407ef88a58d3"
   },
   "outputs": [],
   "source": [
    "import torch.optim as optim\n",
    "\n",
    "DEVICE = \"cpu\"\n",
    "images = torch.rand((1, 3, 640, 480), dtype=torch.float32, device=DEVICE)\n",
    "embeddings = torch.rand((2, 384), dtype=torch.float32, device=DEVICE)\n",
    "labels = torch.tensor([[0, 1], [1, 0]], dtype=torch.float32, device=DEVICE)\n",
    "\n",
    "model = TinyModel()\n",
    "model(images, embeddings[0].unsqueeze(0))"
   ]
  },
  {
   "cell_type": "code",
   "execution_count": null,
   "metadata": {
    "colab": {
     "base_uri": "https://localhost:8080/"
    },
    "id": "1Xay1fIFl5PM",
    "outputId": "2e0d09fc-ae76-4d66-a878-0fc669d4a644"
   },
   "outputs": [],
   "source": [
    "criterion = nn.BCELoss()\n",
    "optimizer = optim.Adam(model.parameters())\n",
    "\n",
    "for i in range(1000):\n",
    "    for embedding, label in zip(embeddings, labels):\n",
    "        pred = model(images, embedding.unsqueeze(0))\n",
    "        loss = criterion(pred, label.unsqueeze(0))\n",
    "\n",
    "        optimizer.zero_grad()\n",
    "        loss.backward()\n",
    "        optimizer.step()\n",
    "\n",
    "        print(f\"Epoch {i}: BCE: {loss}\")"
   ]
  },
  {
   "cell_type": "code",
   "execution_count": null,
   "metadata": {
    "colab": {
     "base_uri": "https://localhost:8080/"
    },
    "id": "V7qd2OGJgmpo",
    "outputId": "27334ab6-d027-4b73-9c65-2b860e19ce94"
   },
   "outputs": [],
   "source": [
    "model(images, embeddings[0].unsqueeze(0)).argmax(), model(images, embeddings[1].unsqueeze(0)).argmax()  # Overfit :)"
   ]
  },
  {
   "cell_type": "code",
   "execution_count": null,
   "metadata": {
    "id": "MV4Nee_TtHOn"
   },
   "outputs": [],
   "source": []
  }
 ],
 "metadata": {
  "colab": {
   "provenance": []
  },
  "kernelspec": {
   "display_name": "Python 3 (ipykernel)",
   "language": "python",
   "name": "python3"
  },
  "language_info": {
   "codemirror_mode": {
    "name": "ipython",
    "version": 3
   },
   "file_extension": ".py",
   "mimetype": "text/x-python",
   "name": "python",
   "nbconvert_exporter": "python",
   "pygments_lexer": "ipython3",
   "version": "3.12.4"
  }
 },
 "nbformat": 4,
 "nbformat_minor": 4
}
