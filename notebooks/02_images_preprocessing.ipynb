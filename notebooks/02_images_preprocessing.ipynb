{
 "cells": [
  {
   "cell_type": "markdown",
   "metadata": {
    "editable": true,
    "id": "HfNRp0JOvNDG",
    "slideshow": {
     "slide_type": ""
    },
    "tags": []
   },
   "source": [
    "# Data Ingesting"
   ]
  },
  {
   "cell_type": "code",
   "execution_count": null,
   "metadata": {
    "colab": {
     "base_uri": "https://localhost:8080/"
    },
    "id": "jDOGz7ass_PP",
    "outputId": "9200143d-1165-4359-c9dd-b9e9c2a6fb58"
   },
   "outputs": [],
   "source": [
    "\n",
    "!curl http://images.cocodataset.org/zips/val2014.zip > images.zip\n",
    "!curl http://images.cocodataset.org/annotations/annotations_trainval2014.zip >> anns.zip\n",
    "\n",
    "!unzip images.zip\n",
    "!unzip anns.zip\n",
    "\n",
    "!rm images.zip\n",
    "!rm anns.zip\n"
   ]
  },
  {
   "cell_type": "markdown",
   "metadata": {
    "id": "mfkGRd8-vSiq"
   },
   "source": [
    "# Data Loading"
   ]
  },
  {
   "cell_type": "code",
   "execution_count": null,
   "metadata": {
    "id": "qfi8M8-atgyn"
   },
   "outputs": [],
   "source": [
    "import json\n",
    "import pandas as pd\n",
    "\n",
    "\n",
    "with open(\"annotations/captions_val2014.json\", 'r') as f:\n",
    "    coco_data = json.load(f)\n",
    "\n",
    "images = {image['id']: image for image in coco_data['images']}\n",
    "annotations = coco_data['annotations']\n",
    "\n",
    "data = []\n",
    "for ann in annotations:\n",
    "    image_id = ann['image_id']\n",
    "    caption = ann['caption']\n",
    "\n",
    "    if image_id in images:\n",
    "        image_info = images[image_id]\n",
    "        image_name = image_info['file_name']\n",
    "        width = image_info['width']\n",
    "        height = image_info['height']\n",
    "\n",
    "        data.append([image_name, width, height, caption])\n",
    "\n",
    "df = pd.DataFrame(data, columns=['image_name', 'width', 'height', 'caption'])"
   ]
  },
  {
   "cell_type": "markdown",
   "metadata": {
    "id": "6Q_4iRIxvWVr"
   },
   "source": [
    "# Images Preprocessing Functions"
   ]
  },
  {
   "cell_type": "code",
   "execution_count": null,
   "metadata": {
    "id": "oBV_cLAHvY4L"
   },
   "outputs": [],
   "source": [
    "from typing import Callable\n",
    "from PIL import Image\n",
    "\n",
    "def transform_image_inplace(image_path: str, transform_fn: Callable[[Image.Image], Image.Image]) -> None:\n",
    "    with Image.open(image_path) as img:\n",
    "        transform_fn(img).save(image_path)\n",
    "\n",
    "def rotate_image_right(image: Image.Image) -> Image.Image:\n",
    "    return image.rotate(-90, expand=True)\n",
    "\n",
    "def resize_image(image: Image.Image, target_width: int, target_height: int) -> Image.Image:\n",
    "    return image.resize((target_width, target_height), Image.LANCZOS)\n",
    "\n",
    "def get_filtered_images(df: pd.DataFrame, target_width: int, target_height: int) -> pd.Series:\n",
    "    col = df[\"image_name\"]\n",
    "    return col[(df[\"width\"] == target_width) & (df[\"height\"] == target_height)]\n",
    "\n",
    "def get_filtered_images_in(df: pd.DataFrame, target_widths: list[int], target_heights: list[int]) -> pd.Series:\n",
    "    col = df[\"image_name\"]\n",
    "    return col[(df[\"width\"].apply(lambda w: w in target_widths) ) & (df[\"height\"].apply(lambda h: h in target_heights))]"
   ]
  },
  {
   "cell_type": "code",
   "execution_count": null,
   "metadata": {
    "id": "dVlECHwJt1lY"
   },
   "outputs": [],
   "source": [
    "from functools import partial\n",
    "import os\n",
    "\n",
    "IMAGES_DIR = \"val2014\"\n",
    "\n",
    "perfect_images = get_filtered_images(df, 640, 480)\n",
    "height_resize_images = get_filtered_images_in(df, [640], [426, 427, 428])\n",
    "flip_axis_images = get_filtered_images(df, 480, 640)\n",
    "height_resize_and_flip_axis_images = get_filtered_images(df, 427, 640)\n",
    "\n",
    "def get_image_path(image_name: str) -> str:\n",
    "    return os.path.join(IMAGES_DIR, image_name)\n"
   ]
  },
  {
   "cell_type": "markdown",
   "metadata": {
    "id": "O4m9UOtEvbrP"
   },
   "source": [
    "# Simple Speed Test"
   ]
  },
  {
   "cell_type": "code",
   "execution_count": null,
   "metadata": {
    "colab": {
     "base_uri": "https://localhost:8080/"
    },
    "id": "fOqSWxvcwfka",
    "outputId": "ddd99d2e-b235-48eb-8224-e294e58737a4"
   },
   "outputs": [],
   "source": [
    "import time\n",
    "from concurrent.futures import ThreadPoolExecutor\n",
    "from functools import partial\n",
    "\n",
    "def process_height_resize_image(image_name):\n",
    "    transform_image_inplace(get_image_path(image_name), partial(resize_image, target_width=640, target_height=480))\n",
    "\n",
    "def process_flip_axis_image(image_name):\n",
    "    transform_image_inplace(get_image_path(image_name), rotate_image_right)\n",
    "\n",
    "def process_combined_transform(image_name):\n",
    "    def resize_and_rotate(img):\n",
    "        resized_img = partial(resize_image, target_width=640, target_height=480)(img)\n",
    "        return rotate_image_right(resized_img)\n",
    "\n",
    "    transform_image_inplace(get_image_path(image_name), resize_and_rotate)\n",
    "\n",
    "st = time.time()\n",
    "\n",
    "with ThreadPoolExecutor() as executor:\n",
    "    executor.map(process_height_resize_image, height_resize_images[:10])\n",
    "    executor.map(process_flip_axis_image, flip_axis_images[:10])\n",
    "    executor.map(process_combined_transform, height_resize_images[:10])\n",
    "\n",
    "end = time.time()\n",
    "\n",
    "print((end - st) / 60)\n"
   ]
  },
  {
   "cell_type": "code",
   "execution_count": null,
   "metadata": {
    "id": "mu_GNMyo13vP"
   },
   "outputs": [],
   "source": []
  }
 ],
 "metadata": {
  "colab": {
   "provenance": []
  },
  "kernelspec": {
   "display_name": "Python 3 (ipykernel)",
   "language": "python",
   "name": "python3"
  },
  "language_info": {
   "codemirror_mode": {
    "name": "ipython",
    "version": 3
   },
   "file_extension": ".py",
   "mimetype": "text/x-python",
   "name": "python",
   "nbconvert_exporter": "python",
   "pygments_lexer": "ipython3",
   "version": "3.12.4"
  }
 },
 "nbformat": 4,
 "nbformat_minor": 4
}
