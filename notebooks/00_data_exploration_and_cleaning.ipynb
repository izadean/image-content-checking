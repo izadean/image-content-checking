{
 "cells": [
  {
   "cell_type": "markdown",
   "metadata": {
    "id": "9llA3lfQbNYu"
   },
   "source": [
    "# Annotations Ingesting"
   ]
  },
  {
   "cell_type": "code",
   "execution_count": null,
   "metadata": {
    "colab": {
     "base_uri": "https://localhost:8080/"
    },
    "id": "6I5pZfilF269",
    "outputId": "4224106e-5bf4-4a8d-ede0-b3e4c5e9505e"
   },
   "outputs": [],
   "source": [
    "!curl http://images.cocodataset.org/annotations/annotations_trainval2014.zip >> anns.zip\n",
    "!unzip anns.zip\n",
    "!rm anns.zip"
   ]
  },
  {
   "cell_type": "markdown",
   "metadata": {
    "id": "X3XNQ_4ibWe3"
   },
   "source": [
    "# Annotations Loading"
   ]
  },
  {
   "cell_type": "code",
   "execution_count": null,
   "metadata": {
    "editable": true,
    "id": "Do66-UjFJnQ7",
    "slideshow": {
     "slide_type": ""
    },
    "tags": []
   },
   "outputs": [],
   "source": [
    "import json\n",
    "import pandas as pd\n",
    "\n",
    "\n",
    "with open(\"annotations/captions_val2014.json\", 'r') as f:\n",
    "    coco_data = json.load(f)\n",
    "\n",
    "images = {image['id']: image for image in coco_data['images']}\n",
    "annotations = coco_data['annotations']\n",
    "\n",
    "data = []\n",
    "for ann in annotations:\n",
    "    image_id = ann['image_id']\n",
    "    caption = ann['caption']\n",
    "\n",
    "    if image_id in images:\n",
    "        image_info = images[image_id]\n",
    "        image_name = image_info['file_name']\n",
    "        width = image_info['width']\n",
    "        height = image_info['height']\n",
    "\n",
    "        data.append([image_name, width, height, caption])\n",
    "\n",
    "df = pd.DataFrame(data, columns=['image_name', 'width', 'height', 'caption'])"
   ]
  },
  {
   "cell_type": "markdown",
   "metadata": {
    "id": "NPvYbrCxbQWF"
   },
   "source": [
    "# Annotations Exploration"
   ]
  },
  {
   "cell_type": "markdown",
   "metadata": {
    "id": "nvJWRJYHbai7"
   },
   "source": [
    "## Quick Look"
   ]
  },
  {
   "cell_type": "code",
   "execution_count": null,
   "metadata": {
    "colab": {
     "base_uri": "https://localhost:8080/",
     "height": 206
    },
    "id": "WrmEEs3nMM92",
    "outputId": "aa634f55-e27a-4b68-f08e-1757824a3a75"
   },
   "outputs": [],
   "source": [
    "df.head()"
   ]
  },
  {
   "cell_type": "code",
   "execution_count": null,
   "metadata": {
    "colab": {
     "base_uri": "https://localhost:8080/"
    },
    "id": "go-SWz_RPFjc",
    "outputId": "a388f113-3f00-4042-df70-37bebe849042"
   },
   "outputs": [],
   "source": [
    "df.info()"
   ]
  },
  {
   "cell_type": "code",
   "execution_count": null,
   "metadata": {
    "colab": {
     "base_uri": "https://localhost:8080/"
    },
    "id": "JaNo5ONEMClW",
    "outputId": "dcec2e98-c226-4063-8983-92db21f111f4"
   },
   "outputs": [],
   "source": [
    "df.width.unique().size, df.height.unique().size"
   ]
  },
  {
   "cell_type": "code",
   "execution_count": null,
   "metadata": {
    "colab": {
     "base_uri": "https://localhost:8080/",
     "height": 488
    },
    "id": "KNu6YTeQNXXw",
    "outputId": "b9a07f11-e2b2-49be-c6b4-401dc2e97bec"
   },
   "outputs": [],
   "source": [
    "df.loc[:, [\"width\", \"height\"]].hist()"
   ]
  },
  {
   "cell_type": "code",
   "execution_count": null,
   "metadata": {
    "colab": {
     "base_uri": "https://localhost:8080/"
    },
    "id": "jXFe1-GjNoGH",
    "outputId": "05d863d3-9c6e-4714-bf60-93981f4c68ff"
   },
   "outputs": [],
   "source": [
    "df.width.mean(), df.height.mean()"
   ]
  },
  {
   "cell_type": "code",
   "execution_count": null,
   "metadata": {
    "colab": {
     "base_uri": "https://localhost:8080/"
    },
    "id": "WqsB8hCgjq_f",
    "outputId": "b7d05f53-2953-49c0-8c4f-ba1281f6060b"
   },
   "outputs": [],
   "source": [
    "for c in df.loc[:15, \"caption\"]:\n",
    "    print(c)"
   ]
  },
  {
   "cell_type": "code",
   "execution_count": null,
   "metadata": {
    "id": "wzFl2dAxN514"
   },
   "outputs": [],
   "source": [
    "df[\"words_count\"] = df[\"caption\"].map(lambda string: len(string.split(\" \")))"
   ]
  },
  {
   "cell_type": "code",
   "execution_count": null,
   "metadata": {
    "colab": {
     "base_uri": "https://localhost:8080/"
    },
    "id": "UFoQfr9MOsQu",
    "outputId": "0c0bb160-09ee-4a01-9a35-c93fb27e4188"
   },
   "outputs": [],
   "source": [
    "df[\"words_count\"].head()"
   ]
  },
  {
   "cell_type": "code",
   "execution_count": null,
   "metadata": {
    "colab": {
     "base_uri": "https://localhost:8080/",
     "height": 448
    },
    "id": "PTTpxMnWOl82",
    "outputId": "e7cb7af1-5bb1-4d4c-baf6-a23bc8a6a2ec"
   },
   "outputs": [],
   "source": [
    "df[\"words_count\"].hist()"
   ]
  },
  {
   "cell_type": "code",
   "execution_count": null,
   "metadata": {
    "colab": {
     "base_uri": "https://localhost:8080/"
    },
    "id": "dVYSXsJ0Opvt",
    "outputId": "cf099ca5-1f62-48ae-af01-4f769a02ede3"
   },
   "outputs": [],
   "source": [
    "df[\"words_count\"].mean()"
   ]
  },
  {
   "cell_type": "markdown",
   "metadata": {
    "id": "SPnX8j2yber4"
   },
   "source": [
    "## Data Cleaning"
   ]
  },
  {
   "cell_type": "markdown",
   "metadata": {
    "id": "BmgZ-9kxb3Bu"
   },
   "source": [
    "### Choosing Standard Widths & Heights"
   ]
  },
  {
   "cell_type": "code",
   "execution_count": null,
   "metadata": {
    "colab": {
     "base_uri": "https://localhost:8080/",
     "height": 449
    },
    "id": "ndCdDgaDOYAQ",
    "outputId": "30a8084b-3eed-46cb-c67f-f394942e9c45"
   },
   "outputs": [],
   "source": [
    "import matplotlib.pyplot as plt\n",
    "import seaborn as sns\n",
    "\n",
    "plt.grid(True)\n",
    "sns.scatterplot(df.loc[:, [\"width\", \"height\"]], x=\"width\", y=\"height\", alpha=3e-3)\n",
    "plt.show()\n"
   ]
  },
  {
   "cell_type": "code",
   "execution_count": null,
   "metadata": {
    "id": "qZ383u3KP-KO"
   },
   "outputs": [],
   "source": [
    "import numpy as np\n",
    "\n",
    "set1 = {\n",
    "    \"min_w\": 460,\n",
    "    \"max_w\": 540,\n",
    "    \"min_h\": 300,\n",
    "    \"max_h\": 400\n",
    "}\n",
    "\n",
    "set2 = {\n",
    "    \"min_w\": 400,\n",
    "    \"max_w\": 500,\n",
    "    \"min_h\": 630,\n",
    "    \"max_h\": 9999\n",
    "}\n",
    "\n",
    "set3 = {\n",
    "    \"min_w\": 630,\n",
    "    \"max_w\": 9999,\n",
    "    \"min_h\": 300,\n",
    "    \"max_h\": 400\n",
    "}\n",
    "\n",
    "def filter_df(df, cords_set):\n",
    "    return df[\n",
    "        (df[\"width\"].map(lambda w: cords_set[\"min_w\"] < w < cords_set[\"max_w\"]))\n",
    "        & (df[\"height\"].map(lambda h: cords_set[\"min_h\"] < h < cords_set[\"max_h\"]))\n",
    "    ]\n",
    "\n",
    "df1 = filter_df(df, set1)\n",
    "df2 = filter_df(df, set2)\n",
    "df3 = filter_df(df, set3)"
   ]
  },
  {
   "cell_type": "code",
   "execution_count": null,
   "metadata": {
    "colab": {
     "base_uri": "https://localhost:8080/"
    },
    "id": "rmY4TnB0Q5yY",
    "outputId": "e71eb2dd-3961-4921-c390-6157bc36b5b1"
   },
   "outputs": [],
   "source": [
    "df1.shape[0],  df2.shape[0],  df3.shape[0]"
   ]
  },
  {
   "cell_type": "code",
   "execution_count": null,
   "metadata": {
    "colab": {
     "base_uri": "https://localhost:8080/"
    },
    "id": "D23qau6hXaQY",
    "outputId": "4dbe1909-c7ae-4c3d-a0bf-64a26a3024a0"
   },
   "outputs": [],
   "source": [
    "df.width.value_counts()"
   ]
  },
  {
   "cell_type": "code",
   "execution_count": null,
   "metadata": {
    "colab": {
     "base_uri": "https://localhost:8080/"
    },
    "id": "W9jmZBOTXjFf",
    "outputId": "9952f1fa-8e21-4a0f-f81d-654aeb022445"
   },
   "outputs": [],
   "source": [
    "df.height.value_counts()"
   ]
  },
  {
   "cell_type": "code",
   "execution_count": null,
   "metadata": {
    "colab": {
     "base_uri": "https://localhost:8080/"
    },
    "id": "aJ616oEeXwTh",
    "outputId": "923c85af-b9bb-4d5f-ee15-ea6a5bd93c89"
   },
   "outputs": [],
   "source": [
    "df.groupby([\"width\", \"height\"]).size().sort_values(ascending=False).head(10)"
   ]
  },
  {
   "cell_type": "markdown",
   "metadata": {
    "id": "Ujv6aJokb-B3"
   },
   "source": [
    "### Pipeline Steps"
   ]
  },
  {
   "cell_type": "code",
   "execution_count": null,
   "metadata": {
    "id": "LnQIARfDYG5U"
   },
   "outputs": [],
   "source": [
    "target_pairs = [\n",
    "    (640, 480),  # The perfect sizes\n",
    "    (480, 640),  # Flip axis\n",
    "    (427, 640),  # Resize width and flip axis\n",
    "    (640, 426),  # Resize height\n",
    "    (640, 427),  # Resize height\n",
    "    (640, 428),  # Resize height\n",
    "]\n",
    "df_filtered = df[\n",
    "    df.apply(lambda rec: (rec.width, rec.height) in target_pairs, axis=1)\n",
    "]"
   ]
  },
  {
   "cell_type": "code",
   "execution_count": null,
   "metadata": {
    "colab": {
     "base_uri": "https://localhost:8080/"
    },
    "id": "qSgkxveHaP72",
    "outputId": "43907580-ac41-4e9c-bd54-773a56b32064"
   },
   "outputs": [],
   "source": [
    "df_filtered.info()"
   ]
  }
 ],
 "metadata": {
  "colab": {
   "collapsed_sections": [
    "9llA3lfQbNYu",
    "X3XNQ_4ibWe3"
   ],
   "provenance": [],
   "toc_visible": true
  },
  "kernelspec": {
   "display_name": "Python 3 (ipykernel)",
   "language": "python",
   "name": "python3"
  },
  "language_info": {
   "codemirror_mode": {
    "name": "ipython",
    "version": 3
   },
   "file_extension": ".py",
   "mimetype": "text/x-python",
   "name": "python",
   "nbconvert_exporter": "python",
   "pygments_lexer": "ipython3",
   "version": "3.12.4"
  }
 },
 "nbformat": 4,
 "nbformat_minor": 4
}
